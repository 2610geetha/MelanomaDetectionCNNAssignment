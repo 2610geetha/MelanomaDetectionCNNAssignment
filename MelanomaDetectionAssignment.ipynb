{
  "nbformat": 4,
  "nbformat_minor": 0,
  "metadata": {
    "colab": {
      "provenance": [],
      "toc_visible": true,
      "gpuType": "T4",
      "authorship_tag": "ABX9TyPQ/n2bU0V3AXYQtWvKy6Yl",
      "include_colab_link": true
    },
    "kernelspec": {
      "name": "python3",
      "display_name": "Python 3"
    },
    "language_info": {
      "name": "python"
    },
    "accelerator": "GPU"
  },
  "cells": [
    {
      "cell_type": "markdown",
      "metadata": {
        "id": "view-in-github",
        "colab_type": "text"
      },
      "source": [
        "<a href=\"https://colab.research.google.com/github/2610geetha/MelanomaDetectionCNNAssignment/blob/master/MelanomaDetectionAssignment.ipynb\" target=\"_parent\"><img src=\"https://colab.research.google.com/assets/colab-badge.svg\" alt=\"Open In Colab\"/></a>"
      ]
    },
    {
      "cell_type": "markdown",
      "source": [],
      "metadata": {
        "id": "auUwnWAncXQt"
      }
    },
    {
      "cell_type": "code",
      "execution_count": 5,
      "metadata": {
        "id": "7vUXu_ZALvVJ"
      },
      "outputs": [],
      "source": [
        "\n",
        "### Problem statement: To build a CNN based model which can accurately detect melanoma. Melanoma is a type of cancer that can be deadly if not detected early. It accounts for 75% of skin cancer deaths. A solution which can evaluate images and alert the dermatologists about the presence of melanoma has the potential to reduce a lot of manual effort needed in diagnosis."
      ]
    },
    {
      "cell_type": "code",
      "source": [
        "!nvidia-smi"
      ],
      "metadata": {
        "colab": {
          "base_uri": "https://localhost:8080/"
        },
        "id": "7wpX34P6cKzO",
        "outputId": "6a29c334-3bd3-4838-f152-47bdd45830df"
      },
      "execution_count": 3,
      "outputs": [
        {
          "output_type": "stream",
          "name": "stdout",
          "text": [
            "Sat Mar  9 13:40:00 2024       \n",
            "+---------------------------------------------------------------------------------------+\n",
            "| NVIDIA-SMI 535.104.05             Driver Version: 535.104.05   CUDA Version: 12.2     |\n",
            "|-----------------------------------------+----------------------+----------------------+\n",
            "| GPU  Name                 Persistence-M | Bus-Id        Disp.A | Volatile Uncorr. ECC |\n",
            "| Fan  Temp   Perf          Pwr:Usage/Cap |         Memory-Usage | GPU-Util  Compute M. |\n",
            "|                                         |                      |               MIG M. |\n",
            "|=========================================+======================+======================|\n",
            "|   0  Tesla T4                       Off | 00000000:00:04.0 Off |                    0 |\n",
            "| N/A   38C    P8               9W /  70W |      0MiB / 15360MiB |      0%      Default |\n",
            "|                                         |                      |                  N/A |\n",
            "+-----------------------------------------+----------------------+----------------------+\n",
            "                                                                                         \n",
            "+---------------------------------------------------------------------------------------+\n",
            "| Processes:                                                                            |\n",
            "|  GPU   GI   CI        PID   Type   Process name                            GPU Memory |\n",
            "|        ID   ID                                                             Usage      |\n",
            "|=======================================================================================|\n",
            "|  No running processes found                                                           |\n",
            "+---------------------------------------------------------------------------------------+\n"
          ]
        }
      ]
    },
    {
      "cell_type": "code",
      "source": [
        "### Importing Skin Cancer Data"
      ],
      "metadata": {
        "id": "HS1s9n8ZcFEx"
      },
      "execution_count": 6,
      "outputs": []
    },
    {
      "cell_type": "code",
      "source": [
        "###  Importing all the important libraries\n",
        "\n",
        "import pathlib\n",
        "import tensorflow as tf\n",
        "import matplotlib.pyplot as plt\n",
        "import numpy as np\n",
        "import pandas as pd\n",
        "import os\n",
        "import PIL\n",
        "from tensorflow import keras\n",
        "from tensorflow.keras import layers\n",
        "from tensorflow.keras.models import Sequential"
      ],
      "metadata": {
        "id": "ODVE_E1oc0mz"
      },
      "execution_count": 7,
      "outputs": []
    },
    {
      "cell_type": "code",
      "source": [
        "from google.colab import drive\n",
        "drive.mount('/content/drive')"
      ],
      "metadata": {
        "colab": {
          "base_uri": "https://localhost:8080/"
        },
        "id": "ffM34nS_QuOF",
        "outputId": "50ebea13-ca56-4bf4-97e6-6fdc3a707999"
      },
      "execution_count": null,
      "outputs": [
        {
          "output_type": "stream",
          "name": "stdout",
          "text": [
            "Mounted at /content/drive\n"
          ]
        }
      ]
    },
    {
      "cell_type": "code",
      "source": [
        "\n",
        "# Defining the path for train and test images\n",
        "## Todo: Update the paths of the train and test dataset\n",
        "data_dir_train = pathlib.Path(\"/content/drive/MyDrive/CNNAssignment1-images/Trian\")\n",
        "data_dir_test = pathlib.Path('/content/drive/MyDrive/CNNAssignment1-images/Test')\n",
        "data_dir=pathlib.Path('/content/drive/MyDrive/CNNAssignment1-images')\n",
        "\n"
      ],
      "metadata": {
        "id": "DnRIROJ3REoT"
      },
      "execution_count": 11,
      "outputs": []
    },
    {
      "cell_type": "code",
      "source": [
        "\n",
        "image_count_train = len(list(data_dir_train.glob('*/*.jpg')))\n",
        "print(image_count_train)\n",
        "image_count_test = len(list(data_dir_test.glob('*/*.jpg')))\n",
        "print(image_count_test)\n",
        ""
      ],
      "metadata": {
        "colab": {
          "base_uri": "https://localhost:8080/"
        },
        "id": "nL_0xodZdvxF",
        "outputId": "68c7a65c-181d-4ed0-95d5-5d49cd750a27"
      },
      "execution_count": 9,
      "outputs": [
        {
          "output_type": "stream",
          "name": "stdout",
          "text": [
            "0\n",
            "118\n"
          ]
        }
      ]
    },
    {
      "cell_type": "code",
      "source": [],
      "metadata": {
        "id": "HJGpr2sTd0rs"
      },
      "execution_count": null,
      "outputs": []
    },
    {
      "cell_type": "code",
      "source": [
        "def scanfile (all_data_dir = data_dir, training_data_dir = data_dir_train, testing_data_dir=data_dir_test):\n",
        "    if not os.path.exists(training_data_dir):\n",
        "            os.mkdir(training_data_dir)\n",
        "\n",
        "    if not os.path.exists(testing_data_dir):\n",
        "            os.mkdir(testing_data_dir)\n",
        "\n",
        "    for subdir, dirs, files in os.walk(training_data_dir):\n",
        "\n",
        "        trian_category_name = os.path.basename(subdir)\n",
        "        if trian_category_name == os.path.basename(training_data_dir):\n",
        "              continue\n",
        "        print(str(trian_category_name) + ' has ' + str(len(files)) + ' images')\n",
        "\n",
        "    for subdir, dirs, files in os.walk(testing_data_dir):\n",
        "\n",
        "        test_category_name = os.path.basename(subdir)\n",
        "\n",
        "        if test_category_name == os.path.basename(testing_data_dir):\n",
        "              continue\n",
        "        print(str(test_category_name) + ' has ' + str(len(files)) + ' images')"
      ],
      "metadata": {
        "id": "HF3-7ybeirvV"
      },
      "execution_count": 22,
      "outputs": []
    },
    {
      "cell_type": "code",
      "source": [
        "scanfile()"
      ],
      "metadata": {
        "colab": {
          "base_uri": "https://localhost:8080/"
        },
        "id": "w2dCWyVAkYad",
        "outputId": "1148f50d-3159-408c-96e1-a0bb81111759"
      },
      "execution_count": 23,
      "outputs": [
        {
          "output_type": "stream",
          "name": "stdout",
          "text": [
            "actinic keratosis has 16 images\n",
            "basal cell carcinoma has 16 images\n",
            "dermatofibroma has 16 images\n",
            "melanoma has 16 images\n",
            "nevus has 16 images\n",
            "pigmented benign keratosis has 16 images\n",
            "seborrheic keratosis has 3 images\n",
            "squamous cell carcinoma has 16 images\n",
            "vascular lesion has 3 images\n"
          ]
        }
      ]
    },
    {
      "cell_type": "code",
      "source": [],
      "metadata": {
        "id": "zuJiMAIEkb-U"
      },
      "execution_count": null,
      "outputs": []
    }
  ]
}